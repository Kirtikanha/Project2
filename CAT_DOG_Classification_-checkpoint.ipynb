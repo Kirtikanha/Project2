{
 "cells": [
  {
   "cell_type": "code",
   "execution_count": 1,
   "id": "0317871c",
   "metadata": {},
   "outputs": [],
   "source": [
    "import numpy as np\n",
    "import tensorflow as tf\n",
    "from tensorflow import keras\n",
    "from tensorflow.keras.models import Sequential, Model\n",
    "from tensorflow.keras.layers import Activation, Dense, Conv2D, MaxPool2D, Flatten\n",
    "from tensorflow.keras.optimizers import Adam\n",
    "from tensorflow.keras.metrics import categorical_crossentropy\n",
    "from tensorflow.keras.preprocessing.image import ImageDataGenerator\n",
    "from sklearn.metrics import confusion_matrix\n",
    "\n",
    "import itertools\n",
    "import os\n",
    "import shutil\n",
    "import random\n",
    "import glob\n",
    "import warnings\n",
    "import matplotlib.pyplot as plt\n",
    "warnings.simplefilter(action='ignore', category=FutureWarning)\n",
    "%matplotlib inline\n"
   ]
  },
  {
   "cell_type": "code",
   "execution_count": 6,
   "id": "2e66da73",
   "metadata": {},
   "outputs": [],
   "source": [
    "train_set = \"train\"\n",
    "test_set = \"test\""
   ]
  },
  {
   "cell_type": "code",
   "execution_count": 9,
   "id": "56498ee6",
   "metadata": {},
   "outputs": [
    {
     "name": "stdout",
     "output_type": "stream",
     "text": [
      "Found 557 images belonging to 2 classes.\n",
      "Found 140 images belonging to 2 classes.\n"
     ]
    }
   ],
   "source": [
    "train_batches= ImageDataGenerator(preprocessing_function = tf.keras.applications.mobilenet.preprocess_input)\\\n",
    "               .flow_from_directory(directory=train_set, target_size=(224, 224), classes=['cats', 'dogs'], batch_size=10)\n",
    "test_batches= ImageDataGenerator(preprocessing_function = tf.keras.applications.mobilenet.preprocess_input)\\\n",
    "               .flow_from_directory(directory=test_set, target_size=(224, 224), classes=['cats', 'dogs'], batch_size=10)\n",
    "\n"
   ]
  },
  {
   "cell_type": "code",
   "execution_count": null,
   "id": "38083b32",
   "metadata": {},
   "outputs": [],
   "source": []
  }
 ],
 "metadata": {
  "kernelspec": {
   "display_name": "Python 3 (ipykernel)",
   "language": "python",
   "name": "python3"
  },
  "language_info": {
   "codemirror_mode": {
    "name": "ipython",
    "version": 3
   },
   "file_extension": ".py",
   "mimetype": "text/x-python",
   "name": "python",
   "nbconvert_exporter": "python",
   "pygments_lexer": "ipython3",
   "version": "3.9.7"
  }
 },
 "nbformat": 4,
 "nbformat_minor": 5
}
